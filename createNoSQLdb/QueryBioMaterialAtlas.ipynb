{
 "cells": [
  {
   "cell_type": "markdown",
   "metadata": {},
   "source": [
    "<h1> Jupyter notebook to query Biomaterial Atlas </h1>"
   ]
  },
  {
   "cell_type": "markdown",
   "metadata": {},
   "source": [
    "<h3><b> Introduction </h3></b><br>\n",
    "This Jupyter Notebook can be used to query the Biomaterial Atlas stored in MongoDB. The user can select either a collection ('Heart Valves','TopoChip', or 'Supramolecular material') or query the complete database (all collections at one). "
   ]
  },
  {
   "cell_type": "markdown",
   "metadata": {},
   "source": [
    "<h4> Import libraries </h4>"
   ]
  },
  {
   "cell_type": "code",
   "execution_count": 6,
   "metadata": {},
   "outputs": [],
   "source": [
    "import pymongo\n",
    "import seaborn\n",
    "import ipywidgets as widgets\n",
    "from ipywidgets import interact, interact_manual, HBox\n",
    "import IPython.display\n",
    "from IPython.display import display, clear_output\n",
    "%matplotlib inline\n",
    "import matplotlib.pyplot as plt\n",
    "from createNoSQLdb import create_connection_with_client"
   ]
  },
  {
   "cell_type": "markdown",
   "metadata": {},
   "source": [
    "<h4><b> Create the collection with the MongoDB client </h4></b>"
   ]
  },
  {
   "cell_type": "code",
   "execution_count": 7,
   "metadata": {},
   "outputs": [],
   "source": [
    "connection=create_connection_with_client('BiomaterialTest')"
   ]
  },
  {
   "cell_type": "markdown",
   "metadata": {},
   "source": [
    "<h4><b> Query the database </b></h4> "
   ]
  },
  {
   "cell_type": "code",
   "execution_count": 10,
   "metadata": {},
   "outputs": [],
   "source": [
    "columns_to_select=[column for column in connection.list_collection_names()]"
   ]
  },
  {
   "cell_type": "markdown",
   "metadata": {},
   "source": [
    "<b> Select the collection </b><br>\n",
    "First, we need to specify the collection in which we are going to search for our datasets of interest. <br>"
   ]
  },
  {
   "cell_type": "code",
   "execution_count": 16,
   "metadata": {},
   "outputs": [
    {
     "data": {
      "application/vnd.jupyter.widget-view+json": {
       "model_id": "9760bd36e5db412aaab59d5edbdcc3a3",
       "version_major": 2,
       "version_minor": 0
      },
      "text/plain": [
       "HBox(children=(Dropdown(description='Collection', options=('topochip', 'heartvalve'), value='topochip'),))"
      ]
     },
     "metadata": {},
     "output_type": "display_data"
    }
   ],
   "source": [
    "drop_down_1=widgets.Dropdown(options=columns_to_select,description='Collection',disabled=False)\n",
    "ui=HBox([drop_down_1])\n",
    "display(ui)"
   ]
  },
  {
   "cell_type": "code",
   "execution_count": null,
   "metadata": {},
   "outputs": [],
   "source": []
  }
 ],
 "metadata": {
  "kernelspec": {
   "display_name": "Python 3 (ipykernel)",
   "language": "python",
   "name": "python3"
  },
  "language_info": {
   "codemirror_mode": {
    "name": "ipython",
    "version": 3
   },
   "file_extension": ".py",
   "mimetype": "text/x-python",
   "name": "python",
   "nbconvert_exporter": "python",
   "pygments_lexer": "ipython3",
   "version": "3.8.12"
  }
 },
 "nbformat": 4,
 "nbformat_minor": 4
}
